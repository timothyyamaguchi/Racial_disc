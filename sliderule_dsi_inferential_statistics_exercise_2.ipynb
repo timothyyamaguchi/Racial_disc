{
 "cells": [
  {
   "cell_type": "markdown",
   "metadata": {},
   "source": [
    "# Examining Racial Discrimination in the US Job Market\n",
    "\n",
    "### Background\n",
    "Racial discrimination continues to be pervasive in cultures throughout the world. Researchers examined the level of racial discrimination in the United States labor market by randomly assigning identical résumés to black-sounding or white-sounding names and observing the impact on requests for interviews from employers.\n",
    "\n",
    "### Data\n",
    "In the dataset provided, each row represents a resume. The 'race' column has two values, 'b' and 'w', indicating black-sounding and white-sounding. The column 'call' has two values, 1 and 0, indicating whether the resume received a call from employers or not.\n",
    "\n",
    "Note that the 'b' and 'w' values in race are assigned randomly to the resumes when presented to the employer."
   ]
  },
  {
   "cell_type": "markdown",
   "metadata": {},
   "source": [
    "<div class=\"span5 alert alert-info\">\n",
    "### Exercises\n",
    "You will perform a statistical analysis to establish whether race has a significant impact on the rate of callbacks for resumes.\n",
    "\n",
    "Answer the following questions **in this notebook below and submit to your Github account**. \n",
    "\n",
    "   1. What test is appropriate for this problem? Does CLT apply?\n",
    "   2. What are the null and alternate hypotheses?\n",
    "   3. Compute margin of error, confidence interval, and p-value.\n",
    "   4. Write a story describing the statistical significance in the context or the original problem.\n",
    "   5. Does your analysis mean that race/name is the most important factor in callback success? Why or why not? If not, how would you amend your analysis?\n",
    "\n",
    "You can include written notes in notebook cells using Markdown: \n",
    "   - In the control panel at the top, choose Cell > Cell Type > Markdown\n",
    "   - Markdown syntax: http://nestacms.com/docs/creating-content/markdown-cheat-sheet\n",
    "\n",
    "\n",
    "#### Resources\n",
    "+ Experiment information and data source: http://www.povertyactionlab.org/evaluation/discrimination-job-market-united-states\n",
    "+ Scipy statistical methods: http://docs.scipy.org/doc/scipy/reference/stats.html \n",
    "+ Markdown syntax: http://nestacms.com/docs/creating-content/markdown-cheat-sheet\n",
    "</div>\n",
    "****"
   ]
  },
  {
   "cell_type": "markdown",
   "metadata": {},
   "source": [
    "I used a two-sample t-test for this problem. Central Limit Theorem would apply because the data is relatively normal and the sample size is large enough to approximate the population.\n",
    "\n",
    "HO: The difference in the callback rate for black and white sounding names are not statistically significant. HA: The difference in the callback rate for black and white sounding names is statistically significant."
   ]
  },
  {
   "cell_type": "code",
   "execution_count": 1,
   "metadata": {
    "collapsed": true
   },
   "outputs": [],
   "source": [
    "# Importing the Libraries and data\n",
    "import pandas as pd\n",
    "import numpy as np\n",
    "from scipy import stats\n",
    "import matplotlib.pyplot as plt\n",
    "import matplotlib.mlab as mlab\n",
    "import math\n",
    "\n",
    "df =  pd.read_stata('us_job_market_discrimination.dta')"
   ]
  },
  {
   "cell_type": "code",
   "execution_count": 2,
   "metadata": {
    "collapsed": false
   },
   "outputs": [],
   "source": [
    "# Differentiating between race\n",
    "race_df = df[['race', 'call']]\n",
    "race_df_black = race_df[race_df.race == 'b']\n",
    "race_df_white = race_df[race_df.race == 'w']"
   ]
  },
  {
   "cell_type": "code",
   "execution_count": 3,
   "metadata": {
    "collapsed": false
   },
   "outputs": [],
   "source": [
    "# To calculate a variance\n",
    "def calc_variance_black(ilist):\n",
    "    variance = 0\n",
    "    for item in ilist:\n",
    "        variance = variance + (mean_df_black - item) ** 2\n",
    "    return variance / len(ilist)"
   ]
  },
  {
   "cell_type": "code",
   "execution_count": 4,
   "metadata": {
    "collapsed": false
   },
   "outputs": [
    {
     "name": "stdout",
     "output_type": "stream",
     "text": [
      "If data is normal, the mean, median, and mode will all be equal\n",
      "The mean is 0.0644763857126\n",
      "The median is 0.0\n",
      "The mode is 0.0\n",
      "The variance is 0.0603191816806\n",
      "The standard deviation is 0.245599636972\n"
     ]
    }
   ],
   "source": [
    "# Quick check to determine if the black data is normal\n",
    "race_df_black_call = race_df_black.call\n",
    "print 'If data is normal, the mean, median, and mode will all be equal'\n",
    "mean_df_black = race_df_black_call.mean()\n",
    "median_df_black = race_df_black_call.median()\n",
    "mode_df_black = float(race_df_black_call.mode())\n",
    "variance_black = calc_variance_black(race_df_black_call)\n",
    "std_dev_black = math.sqrt(variance_black)\n",
    "\n",
    "print 'The mean is %s' % (mean_df_black)\n",
    "print 'The median is %s' % (median_df_black)\n",
    "print 'The mode is %s' % (mode_df_black)\n",
    "print 'The variance is %s' % (variance_black)\n",
    "print 'The standard deviation is %s' % (std_dev_black)"
   ]
  },
  {
   "cell_type": "code",
   "execution_count": 5,
   "metadata": {
    "collapsed": false
   },
   "outputs": [
    {
     "data": {
      "image/png": "[encoded data removed]",
      "text/plain": [
       "<matplotlib.figure.Figure at 0xbb80390>"
      ]
     },
     "metadata": {},
     "output_type": "display_data"
    }
   ],
   "source": [
    "# Plotting black distribution\n",
    "mu_black = float(mean_df_black)\n",
    "x_black = np.linspace(mu_black-3*variance_black, mu_black+3*variance_black, 100)\n",
    "plt.plot(x_black, mlab.normpdf(x_black, mu_black, std_dev_black))\n",
    "plt.show()"
   ]
  },
  {
   "cell_type": "code",
   "execution_count": 6,
   "metadata": {
    "collapsed": true
   },
   "outputs": [],
   "source": [
    "# To calculate a variance\n",
    "def calc_variance_white(ilist):\n",
    "    variance = 0\n",
    "    for item in ilist:\n",
    "        variance = variance + (mean_df_white - item) ** 2\n",
    "    return variance / len(ilist)"
   ]
  },
  {
   "cell_type": "code",
   "execution_count": 7,
   "metadata": {
    "collapsed": false
   },
   "outputs": [
    {
     "name": "stdout",
     "output_type": "stream",
     "text": [
      "If data is normal, the mean, median, and mode will all be equal\n",
      "The mean is 0.0965092405677\n",
      "The median is 0.0\n",
      "The mode is 0.0\n",
      "The variance is 0.0871952067935\n",
      "The standard deviation is 0.29528834517\n"
     ]
    }
   ],
   "source": [
    "# Quick check to determine if the white data is normal\n",
    "race_df_white_call = race_df_white.call\n",
    "print 'If data is normal, the mean, median, and mode will all be equal'\n",
    "mean_df_white = race_df_white_call.mean()\n",
    "median_df_white = race_df_white_call.median()\n",
    "mode_df_white = float(race_df_white_call.mode())\n",
    "variance_white = calc_variance_white(race_df_white_call)\n",
    "std_dev_white = math.sqrt(variance_white)\n",
    "\n",
    "print 'The mean is %s' % (mean_df_white)\n",
    "print 'The median is %s' % (median_df_white)\n",
    "print 'The mode is %s' % (mode_df_white)\n",
    "print 'The variance is %s' % (variance_white)\n",
    "print 'The standard deviation is %s' % (std_dev_white)"
   ]
  },
  {
   "cell_type": "code",
   "execution_count": 8,
   "metadata": {
    "collapsed": false
   },
   "outputs": [
    {
     "data": {
      "image/png": "[encoded data removed]",
      "text/plain": [
       "<matplotlib.figure.Figure at 0xb9aef60>"
      ]
     },
     "metadata": {},
     "output_type": "display_data"
    }
   ],
   "source": [
    "# Plotting white distribution\n",
    "mu_white = float(mean_df_white)\n",
    "x_white = np.linspace(mu_white-3*variance_white, mu_white+3*variance_white, 100)\n",
    "plt.plot(x_white, mlab.normpdf(x_white, mu_white, std_dev_white))\n",
    "plt.show()"
   ]
  },
  {
   "cell_type": "code",
   "execution_count": 9,
   "metadata": {
    "collapsed": false
   },
   "outputs": [
    {
     "name": "stdout",
     "output_type": "stream",
     "text": [
      "I am 95% confident that the difference in the callback rate for black and white sounding names are statistically significant\n"
     ]
    }
   ],
   "source": [
    "# To determine the true population mean\n",
    "# Two sample t test using the t statistic\n",
    "population_mean = race_df.call.mean()\n",
    "sample_size = math.sqrt(4870)\n",
    "t_value_double = (mu_black - mu_white) / math.sqrt((variance_black / 2435) + (variance_white / 2435))\n",
    "t_table_value_double = stats.t.ppf(.975, 4870)\n",
    "if abs(t_value_double) > abs(t_table_value_double):\n",
    "    print 'I am 95% confident that the difference in the callback rate for black and white sounding names are statistically significant'"
   ]
  },
  {
   "cell_type": "code",
   "execution_count": 10,
   "metadata": {
    "collapsed": false
   },
   "outputs": [
    {
     "name": "stdout",
     "output_type": "stream",
     "text": [
      "The Margin of Error is 0.00716482395169\n",
      "I am 95 percent confident that 6.44763857126 percent of blacks did get a callback plus or minus 1.40430549453 percent\n",
      "The p-value is -4.47085023596 assuming that there is no difference between the callback rate of black and white sounding names\n"
     ]
    }
   ],
   "source": [
    "mar_of_error = math.sqrt((.5*(1-.5))/4870)\n",
    "confidence_interval = (mar_of_error*1.96)*100\n",
    "mean_df_black_str = mean_df_black*100\n",
    "print 'The Margin of Error is %s' % (mar_of_error)\n",
    "print 'I am 95 percent confident that %s percent of blacks did get a callback plus or minus %s percent' % (mean_df_black_str, confidence_interval)\n",
    "\n",
    "p_value = (mu_black - mu_white) / mar_of_error\n",
    "print 'The p-value is %s assuming that there is no difference between the callback rate of black and white sounding names' % (p_value)"
   ]
  },
  {
   "cell_type": "markdown",
   "metadata": {},
   "source": [
    "I am 95% confident that there is a significant difference in the call backrate for blacks compared to whites. This can be expanded to show that 6.44 percent of blacks received a callback plus or minus 1.4 percent.\n",
    "\n",
    "The analysis states that race is an important factor, however, in order to determine if it is the most important factor I would run an ordinary least squares regression to determine this."
   ]
  }
 ],
 "metadata": {
  "kernelspec": {
   "display_name": "Python 2",
   "language": "python",
   "name": "python2"
  },
  "language_info": {
   "codemirror_mode": {
    "name": "ipython",
    "version": 2
   },
   "file_extension": ".py",
   "mimetype": "text/x-python",
   "name": "python",
   "nbconvert_exporter": "python",
   "pygments_lexer": "ipython2",
   "version": "2.7.13"
  }
 },
 "nbformat": 4,
 "nbformat_minor": 0
}
